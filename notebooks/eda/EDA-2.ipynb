{
 "cells": [
  {
   "cell_type": "code",
   "execution_count": 1,
   "id": "bbc5e45d-34a0-49f0-8a0f-f59745cd3426",
   "metadata": {},
   "outputs": [],
   "source": [
    "import pandas as pd\n",
    "import random\n",
    "import matplotlib.pyplot as plt\n",
    "import matplotlib.patches as mpatches"
   ]
  },
  {
   "cell_type": "code",
   "execution_count": 5,
   "id": "55277ffe-540f-4ccc-bb3f-395d046a162a",
   "metadata": {},
   "outputs": [],
   "source": [
    "# Путь к файлу с данными по широте,долготе и тяжести льда.\n",
    "path_excel = 'IntegrVelocity.xlsx'\n",
    "xls = pd.ExcelFile(path_excel)\n",
    "sheet_name = xls.sheet_names[2:]"
   ]
  },
  {
   "cell_type": "code",
   "execution_count": 20,
   "id": "84035c62-250c-4bdc-8ed7-4f02f8e80e3c",
   "metadata": {},
   "outputs": [],
   "source": [
    "from transform_coord_to_grid import compute_grid_coord, load_table_lat_lon\n",
    "lat, lon = load_table_lat_lon('IntegrVelocity.xlsx')\n",
    "result_arch = compute_grid_coord(table_lat=lat, table_lon=lon, lat=64.95, lon=40.05)\n",
    "result_dudin = compute_grid_coord(table_lat=lat, table_lon=lon, lat=69.4, lon=86.15)\n",
    "result_europe = compute_grid_coord(table_lat=lat, table_lon=lon, lat=71.5, lon=22)\n",
    "result_terminal = compute_grid_coord(table_lat=lat, table_lon=lon, lat=71, lon=73.73)\n",
    "result_kromka = compute_grid_coord(table_lat=lat, table_lon=lon, lat=60.7, lon=175.3)\n",
    "result_Asia = compute_grid_coord(table_lat=lat, table_lon=lon, lat=55.7, lon=164.25)"
   ]
  },
  {
   "attachments": {},
   "cell_type": "markdown",
   "id": "c634ed5d-1a56-48a2-aa6b-e113871afdf7",
   "metadata": {},
   "source": [
    "Данные из таблицы графов: <br>\n",
    "Широта и долгота Архангельска -  64.95 , 40.05 <br>\n",
    "Широта и долгота Дудина -  69.4 , 86.15 <br>\n",
    "Широта и долгота Окно в Европу - 71.5, 22 <br>\n",
    "Широта и долгота Терминал Утренний - 71, 73.73 <br>\n",
    "Широта и долгота кромка льда на Востоке - 60.7, 175.3 <br>\n",
    "Широта и долгота Окно в Азию - 55.7, 164.25 <br>"
   ]
  },
  {
   "cell_type": "code",
   "execution_count": 21,
   "id": "9a49f957-e539-4f94-91b0-18bf3e107ded",
   "metadata": {},
   "outputs": [
    {
     "name": "stdout",
     "output_type": "stream",
     "text": [
      "Широта и долгота Архангельска -  64.9351 , 40\n",
      "Широта и долгота Дудина -  69.3827 , 86\n",
      "Широта и долгота Окно в Европу -  71.4896 , 22\n",
      "Широта и долгота Терминал Утренний  -  71.0174 , 74\n",
      "Широта и долгота кромка льда на Востоке -  60.6803 , 175\n",
      "Широта и долгота Окно в Азию -  55.7481 , 164\n"
     ]
    }
   ],
   "source": [
    "print('Широта и долгота Архангельска - ',lat.iloc[result_arch[0],result_arch[1]],',', lon.iloc[result_arch[0],result_arch[1]])\n",
    "print('Широта и долгота Дудина - ',lat.iloc[result_dudin[0],result_dudin[1]],',', lon.iloc[result_dudin[0],result_dudin[1]])\n",
    "print('Широта и долгота Окно в Европу - ',lat.iloc[result_europe[0],result_europe[1]],',', lon.iloc[result_europe[0],result_europe[1]])\n",
    "print('Широта и долгота Терминал Утренний  - ',lat.iloc[result_terminal[0],result_terminal[1]],',', lon.iloc[result_terminal[0],result_terminal[1]])\n",
    "print('Широта и долгота кромка льда на Востоке - ',lat.iloc[result_kromka[0],result_kromka[1]],',', lon.iloc[result_kromka[0],result_kromka[1]])\n",
    "print('Широта и долгота Окно в Азию - ',lat.iloc[result_Asia[0],result_Asia[1]],',', lon.iloc[result_Asia[0],result_Asia[1]])"
   ]
  },
  {
   "cell_type": "code",
   "execution_count": 22,
   "id": "792b1367-014d-4309-8be8-11a8dd08df6f",
   "metadata": {},
   "outputs": [
    {
     "name": "stdout",
     "output_type": "stream",
     "text": [
      "Дата состояния льда 03-Mar-2020\n",
      "Значения тяжести льда для узла Архангельска и Дудинки: -10.0 , -10.0\n",
      "Значения тяжести льда для узла Окно в Европу и Терминал Утренний: -10.0 , 0.0\n",
      "Значения тяжести льда для узла кромка льда на Востоке и Окно в Азию: -10.0 , -10\n",
      "Дата состояния льда 10-Mar-2020\n",
      "Значения тяжести льда для узла Архангельска и Дудинки: -10.0 , -10.0\n",
      "Значения тяжести льда для узла Окно в Европу и Терминал Утренний: -10.0 , 0.0\n",
      "Значения тяжести льда для узла кромка льда на Востоке и Окно в Азию: -10.0 , -10\n",
      "Дата состояния льда 17-Mar-2020\n",
      "Значения тяжести льда для узла Архангельска и Дудинки: -10.0 , -10.0\n",
      "Значения тяжести льда для узла Окно в Европу и Терминал Утренний: -10.0 , 0.0\n",
      "Значения тяжести льда для узла кромка льда на Востоке и Окно в Азию: -10.0 , -10\n",
      "Дата состояния льда 24-Mar-2020\n",
      "Значения тяжести льда для узла Архангельска и Дудинки: -10.0 , -10.0\n",
      "Значения тяжести льда для узла Окно в Европу и Терминал Утренний: -10.0 , 0.0\n",
      "Значения тяжести льда для узла кромка льда на Востоке и Окно в Азию: -10.0 , -10\n",
      "Дата состояния льда 31-Mar-2020\n",
      "Значения тяжести льда для узла Архангельска и Дудинки: -10.0 , -10.0\n",
      "Значения тяжести льда для узла Окно в Европу и Терминал Утренний: -10.0 , 0.0\n",
      "Значения тяжести льда для узла кромка льда на Востоке и Окно в Азию: -10.0 , -10\n",
      "Дата состояния льда 02-Apr-2020\n",
      "Значения тяжести льда для узла Архангельска и Дудинки: -10.0 , -10.0\n",
      "Значения тяжести льда для узла Окно в Европу и Терминал Утренний: -10.0 , 0.0\n",
      "Значения тяжести льда для узла кромка льда на Востоке и Окно в Азию: -10.0 , -10\n",
      "Дата состояния льда 07-Apr-2020\n",
      "Значения тяжести льда для узла Архангельска и Дудинки: -10.0 , -10.0\n",
      "Значения тяжести льда для узла Окно в Европу и Терминал Утренний: -10.0 , 0.0\n",
      "Значения тяжести льда для узла кромка льда на Востоке и Окно в Азию: -10.0 , -10\n",
      "Дата состояния льда 14-Apr-2020\n",
      "Значения тяжести льда для узла Архангельска и Дудинки: -10.0 , -10.0\n",
      "Значения тяжести льда для узла Окно в Европу и Терминал Утренний: -10.0 , 0.0\n",
      "Значения тяжести льда для узла кромка льда на Востоке и Окно в Азию: -10.0 , -10\n",
      "Дата состояния льда 21-Apr-2020\n",
      "Значения тяжести льда для узла Архангельска и Дудинки: -10.0 , -10.0\n",
      "Значения тяжести льда для узла Окно в Европу и Терминал Утренний: -10.0 , 0.0\n",
      "Значения тяжести льда для узла кромка льда на Востоке и Окно в Азию: -10.0 , -10\n",
      "Дата состояния льда 28-Apr-2020\n",
      "Значения тяжести льда для узла Архангельска и Дудинки: -10.0 , -10.0\n",
      "Значения тяжести льда для узла Окно в Европу и Терминал Утренний: -10.0 , 0.0\n",
      "Значения тяжести льда для узла кромка льда на Востоке и Окно в Азию: -10.0 , -10\n",
      "Дата состояния льда 05-May-2020\n",
      "Значения тяжести льда для узла Архангельска и Дудинки: -10.0 , -10.0\n",
      "Значения тяжести льда для узла Окно в Европу и Терминал Утренний: -10.0 , 0.0\n",
      "Значения тяжести льда для узла кромка льда на Востоке и Окно в Азию: -10.0 , -10\n",
      "Дата состояния льда 12-May-2020\n",
      "Значения тяжести льда для узла Архангельска и Дудинки: -10.0 , -10.0\n",
      "Значения тяжести льда для узла Окно в Европу и Терминал Утренний: -10.0 , 0.0\n",
      "Значения тяжести льда для узла кромка льда на Востоке и Окно в Азию: -10.0 , -10\n",
      "Дата состояния льда 19-May-2020\n",
      "Значения тяжести льда для узла Архангельска и Дудинки: -10.0 , -10.0\n",
      "Значения тяжести льда для узла Окно в Европу и Терминал Утренний: -10.0 , 0.0\n",
      "Значения тяжести льда для узла кромка льда на Востоке и Окно в Азию: -10.0 , -10\n",
      "Дата состояния льда 26-May-2020\n",
      "Значения тяжести льда для узла Архангельска и Дудинки: -10.0 , -10.0\n",
      "Значения тяжести льда для узла Окно в Европу и Терминал Утренний: -10.0 , 0.0\n",
      "Значения тяжести льда для узла кромка льда на Востоке и Окно в Азию: -10.0 , -10\n"
     ]
    }
   ],
   "source": [
    "for name in sheet_name:\n",
    "    Velocity_day = pd.read_excel(path_excel, sheet_name=name, header=None)\n",
    "    print('Дата состояния льда',name)\n",
    "    print('Значения тяжести льда для узла Архангельска и Дудинки:',Velocity_day.iloc[result_arch[0],result_arch[1]],',', Velocity_day.iloc[result_dudin[0],result_dudin[1]])\n",
    "    print('Значения тяжести льда для узла Окно в Европу и Терминал Утренний:',Velocity_day.iloc[result_europe[0],result_europe[1]],',', Velocity_day.iloc[result_terminal[0],result_terminal[1]])\n",
    "    print('Значения тяжести льда для узла кромка льда на Востоке и Окно в Азию:',Velocity_day.iloc[result_kromka[0],result_kromka[1]],',', Velocity_day.iloc[result_Asia[0],result_Asia[1]])"
   ]
  },
  {
   "cell_type": "code",
   "execution_count": 23,
   "id": "398e5795-e241-40b9-9018-583c7f25646b",
   "metadata": {},
   "outputs": [],
   "source": [
    "graph_points = pd.read_excel('ГрафДанные.xlsx', sheet_name='points')\n",
    "graph_points.loc[graph_points[graph_points.longitude < 0].longitude.index, 'longitude'] = 360 + graph_points[graph_points.longitude < 0].longitude.values"
   ]
  },
  {
   "cell_type": "code",
   "execution_count": 44,
   "id": "87b6a563-75ac-4f30-b62d-63165e275d53",
   "metadata": {},
   "outputs": [
    {
     "name": "stdout",
     "output_type": "stream",
     "text": [
      "Данные из таблицы - Имя узла Бухта Север и Диксон, долгота - 80.0, широта - 73.1\n",
      "Долгота и Широта по сетке - долгота - 79, широта - 66\n",
      "Данные из таблицы - Имя узла Дудинка, долгота - 86.15, широта - 69.4\n",
      "Долгота и Широта по сетке - долгота - 79, широта - 85\n",
      "Имя узла Дудинка, Значение - -10.0\n",
      "Данные из таблицы - Имя узла кромка льда на Западе, долгота - 44.6, широта - 69.9\n"
     ]
    },
    {
     "ename": "TypeError",
     "evalue": "'NoneType' object is not subscriptable",
     "output_type": "error",
     "traceback": [
      "\u001b[0;31m---------------------------------------------------------------------------\u001b[0m",
      "\u001b[0;31mTypeError\u001b[0m                                 Traceback (most recent call last)",
      "Cell \u001b[0;32mIn[44], line 11\u001b[0m\n\u001b[1;32m      9\u001b[0m \u001b[38;5;28mprint\u001b[39m(\u001b[38;5;124mf\u001b[39m\u001b[38;5;124m'\u001b[39m\u001b[38;5;124mДанные из таблицы - Имя узла \u001b[39m\u001b[38;5;132;01m{\u001b[39;00mdata\u001b[38;5;241m.\u001b[39mpoint_name\u001b[38;5;132;01m}\u001b[39;00m\u001b[38;5;124m, долгота - \u001b[39m\u001b[38;5;132;01m{\u001b[39;00mdata\u001b[38;5;241m.\u001b[39mlongitude\u001b[38;5;132;01m}\u001b[39;00m\u001b[38;5;124m, широта - \u001b[39m\u001b[38;5;132;01m{\u001b[39;00mdata\u001b[38;5;241m.\u001b[39mlatitude\u001b[38;5;132;01m}\u001b[39;00m\u001b[38;5;124m'\u001b[39m)\n\u001b[1;32m     10\u001b[0m result_ \u001b[38;5;241m=\u001b[39m compute_grid_coord(table_lat\u001b[38;5;241m=\u001b[39mlat, table_lon\u001b[38;5;241m=\u001b[39mlon, lat\u001b[38;5;241m=\u001b[39mdata\u001b[38;5;241m.\u001b[39mlatitude, lon\u001b[38;5;241m=\u001b[39mdata\u001b[38;5;241m.\u001b[39mlongitude)\n\u001b[0;32m---> 11\u001b[0m \u001b[38;5;28mprint\u001b[39m(\u001b[38;5;124mf\u001b[39m\u001b[38;5;124m'\u001b[39m\u001b[38;5;124mДолгота и Широта по сетке - долгота - \u001b[39m\u001b[38;5;132;01m{\u001b[39;00m\u001b[43mresult_\u001b[49m\u001b[43m[\u001b[49m\u001b[38;5;241;43m0\u001b[39;49m\u001b[43m]\u001b[49m\u001b[38;5;132;01m}\u001b[39;00m\u001b[38;5;124m, широта - \u001b[39m\u001b[38;5;132;01m{\u001b[39;00mresult_[\u001b[38;5;241m1\u001b[39m]\u001b[38;5;132;01m}\u001b[39;00m\u001b[38;5;124m'\u001b[39m)\n\u001b[1;32m     12\u001b[0m \u001b[38;5;28;01mfor\u001b[39;00m name \u001b[38;5;129;01min\u001b[39;00m sheet_name:\n\u001b[1;32m     13\u001b[0m     Velocity_day \u001b[38;5;241m=\u001b[39m pd\u001b[38;5;241m.\u001b[39mread_excel(path_excel, sheet_name\u001b[38;5;241m=\u001b[39mname, header\u001b[38;5;241m=\u001b[39m\u001b[38;5;28;01mNone\u001b[39;00m)\n",
      "\u001b[0;31mTypeError\u001b[0m: 'NoneType' object is not subscriptable"
     ]
    }
   ],
   "source": [
    "path_excel = 'IntegrVelocity.xlsx'\n",
    "xls = pd.ExcelFile(path_excel)\n",
    "sheet_name = xls.sheet_names[2:]\n",
    "\n",
    "lat, lon = load_table_lat_lon('IntegrVelocity.xlsx')\n",
    "\n",
    "for i in range(len(graph_points)):\n",
    "    data = graph_points.iloc[i,1:4]\n",
    "    print(f'Данные из таблицы - Имя узла {data.point_name}, долгота - {data.longitude}, широта - {data.latitude}')\n",
    "    result_ = compute_grid_coord(table_lat=lat, table_lon=lon, lat=data.latitude, lon=data.longitude)\n",
    "    print(f'Долгота и Широта по сетке - долгота - {result_[0]}, широта - {result_[1]}')\n",
    "    for name in sheet_name:\n",
    "        Velocity_day = pd.read_excel(path_excel, sheet_name=name, header=None)\n",
    "        if Velocity_day.iloc[result_[0],result_[1]] < 10 :\n",
    "            print(f'Имя узла {data.point_name}, Значение - {Velocity_day.iloc[result_[0],result_[1]]}')\n",
    "            break\n",
    "        else:\n",
    "            continue"
   ]
  },
  {
   "cell_type": "code",
   "execution_count": 46,
   "id": "910ab38c-2feb-4f9c-8516-98982e0a1218",
   "metadata": {},
   "outputs": [
    {
     "data": {
      "text/plain": [
       "latitude                       69.9\n",
       "longitude                      44.6\n",
       "point_name    кромка льда на Западе\n",
       "Name: 2, dtype: object"
      ]
     },
     "execution_count": 46,
     "metadata": {},
     "output_type": "execute_result"
    }
   ],
   "source": [
    "data"
   ]
  },
  {
   "cell_type": "code",
   "execution_count": 47,
   "id": "4ef7f5ed-d34c-452b-aec4-f06f02d3b1d5",
   "metadata": {},
   "outputs": [],
   "source": [
    "compute_grid_coord(table_lat=lat, table_lon=lon, lat=69.9, lon=44.6)"
   ]
  },
  {
   "cell_type": "code",
   "execution_count": null,
   "id": "6021c8d8-e6df-4bf5-8f9d-a425a34b82a3",
   "metadata": {},
   "outputs": [],
   "source": []
  }
 ],
 "metadata": {
  "kernelspec": {
   "display_name": "Python 3 (ipykernel)",
   "language": "python",
   "name": "python3"
  },
  "language_info": {
   "codemirror_mode": {
    "name": "ipython",
    "version": 3
   },
   "file_extension": ".py",
   "mimetype": "text/x-python",
   "name": "python",
   "nbconvert_exporter": "python",
   "pygments_lexer": "ipython3",
   "version": "3.11.4"
  }
 },
 "nbformat": 4,
 "nbformat_minor": 5
}

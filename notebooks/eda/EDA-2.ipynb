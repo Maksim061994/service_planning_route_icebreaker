{
 "cells": [
  {
   "cell_type": "code",
   "execution_count": 1,
   "id": "bbc5e45d-34a0-49f0-8a0f-f59745cd3426",
   "metadata": {},
   "source": [
    "import pandas as pd\n",
    "import random\n",
    "import matplotlib.pyplot as plt\n",
    "import matplotlib.patches as mpatches"
   ],
   "outputs": []
  },
  {
   "cell_type": "code",
   "execution_count": 5,
   "id": "55277ffe-540f-4ccc-bb3f-395d046a162a",
   "metadata": {},
   "source": [
    "# Путь к файлу с данными по широте,долготе и тяжести льда.\n",
    "path_excel = 'IntegrVelocity.xlsx'\n",
    "xls = pd.ExcelFile(path_excel)\n",
    "sheet_name = xls.sheet_names[2:]"
   ],
   "outputs": []
  },
  {
   "cell_type": "code",
   "execution_count": 20,
   "id": "84035c62-250c-4bdc-8ed7-4f02f8e80e3c",
   "metadata": {},
   "source": [
    "from transform_coord_to_grid import compute_grid_coord, load_table_lat_lon\n",
    "lat, lon = load_table_lat_lon('IntegrVelocity.xlsx')\n",
    "result_arch = compute_grid_coord(table_lat=lat, table_lon=lon, lat=64.95, lon=40.05)\n",
    "result_dudin = compute_grid_coord(table_lat=lat, table_lon=lon, lat=69.4, lon=86.15)\n",
    "result_europe = compute_grid_coord(table_lat=lat, table_lon=lon, lat=71.5, lon=22)\n",
    "result_terminal = compute_grid_coord(table_lat=lat, table_lon=lon, lat=71, lon=73.73)\n",
    "result_kromka = compute_grid_coord(table_lat=lat, table_lon=lon, lat=60.7, lon=175.3)\n",
    "result_Asia = compute_grid_coord(table_lat=lat, table_lon=lon, lat=55.7, lon=164.25)"
   ],
   "outputs": []
  },
  {
   "attachments": {},
   "cell_type": "markdown",
   "id": "c634ed5d-1a56-48a2-aa6b-e113871afdf7",
   "metadata": {},
   "source": [
    "Данные из таблицы графов: <br>\n",
    "Широта и долгота Архангельска -  64.95 , 40.05 <br>\n",
    "Широта и долгота Дудина -  69.4 , 86.15 <br>\n",
    "Широта и долгота Окно в Европу - 71.5, 22 <br>\n",
    "Широта и долгота Терминал Утренний - 71, 73.73 <br>\n",
    "Широта и долгота кромка льда на Востоке - 60.7, 175.3 <br>\n",
    "Широта и долгота Окно в Азию - 55.7, 164.25 <br>"
   ]
  },
  {
   "cell_type": "code",
   "execution_count": 21,
   "id": "9a49f957-e539-4f94-91b0-18bf3e107ded",
   "metadata": {},
   "source": [
    "print('Широта и долгота Архангельска - ',lat.iloc[result_arch[0],result_arch[1]],',', lon.iloc[result_arch[0],result_arch[1]])\n",
    "print('Широта и долгота Дудина - ',lat.iloc[result_dudin[0],result_dudin[1]],',', lon.iloc[result_dudin[0],result_dudin[1]])\n",
    "print('Широта и долгота Окно в Европу - ',lat.iloc[result_europe[0],result_europe[1]],',', lon.iloc[result_europe[0],result_europe[1]])\n",
    "print('Широта и долгота Терминал Утренний  - ',lat.iloc[result_terminal[0],result_terminal[1]],',', lon.iloc[result_terminal[0],result_terminal[1]])\n",
    "print('Широта и долгота кромка льда на Востоке - ',lat.iloc[result_kromka[0],result_kromka[1]],',', lon.iloc[result_kromka[0],result_kromka[1]])\n",
    "print('Широта и долгота Окно в Азию - ',lat.iloc[result_Asia[0],result_Asia[1]],',', lon.iloc[result_Asia[0],result_Asia[1]])"
   ],
   "outputs": []
  },
  {
   "cell_type": "code",
   "execution_count": 22,
   "id": "792b1367-014d-4309-8be8-11a8dd08df6f",
   "metadata": {},
   "source": [
    "for name in sheet_name:\n",
    "    Velocity_day = pd.read_excel(path_excel, sheet_name=name, header=None)\n",
    "    print('Дата состояния льда',name)\n",
    "    print('Значения тяжести льда для узла Архангельска и Дудинки:',Velocity_day.iloc[result_arch[0],result_arch[1]],',', Velocity_day.iloc[result_dudin[0],result_dudin[1]])\n",
    "    print('Значения тяжести льда для узла Окно в Европу и Терминал Утренний:',Velocity_day.iloc[result_europe[0],result_europe[1]],',', Velocity_day.iloc[result_terminal[0],result_terminal[1]])\n",
    "    print('Значения тяжести льда для узла кромка льда на Востоке и Окно в Азию:',Velocity_day.iloc[result_kromka[0],result_kromka[1]],',', Velocity_day.iloc[result_Asia[0],result_Asia[1]])"
   ],
   "outputs": []
  },
  {
   "cell_type": "code",
   "execution_count": 23,
   "id": "398e5795-e241-40b9-9018-583c7f25646b",
   "metadata": {},
   "source": [
    "graph_points = pd.read_excel('ГрафДанные.xlsx', sheet_name='points')\n",
    "graph_points.loc[graph_points[graph_points.longitude < 0].longitude.index, 'longitude'] = 360 + graph_points[graph_points.longitude < 0].longitude.values"
   ],
   "outputs": []
  },
  {
   "cell_type": "code",
   "execution_count": 44,
   "id": "87b6a563-75ac-4f30-b62d-63165e275d53",
   "metadata": {},
   "source": [
    "path_excel = 'IntegrVelocity.xlsx'\n",
    "xls = pd.ExcelFile(path_excel)\n",
    "sheet_name = xls.sheet_names[2:]\n",
    "\n",
    "lat, lon = load_table_lat_lon('IntegrVelocity.xlsx')\n",
    "\n",
    "for i in range(len(graph_points)):\n",
    "    data = graph_points.iloc[i,1:4]\n",
    "    print(f'Данные из таблицы - Имя узла {data.point_name}, долгота - {data.longitude}, широта - {data.latitude}')\n",
    "    result_ = compute_grid_coord(table_lat=lat, table_lon=lon, lat=data.latitude, lon=data.longitude)\n",
    "    print(f'Долгота и Широта по сетке - долгота - {result_[0]}, широта - {result_[1]}')\n",
    "    for name in sheet_name:\n",
    "        Velocity_day = pd.read_excel(path_excel, sheet_name=name, header=None)\n",
    "        if Velocity_day.iloc[result_[0],result_[1]] < 10 :\n",
    "            print(f'Имя узла {data.point_name}, Значение - {Velocity_day.iloc[result_[0],result_[1]]}')\n",
    "            break\n",
    "        else:\n",
    "            continue"
   ],
   "outputs": []
  },
  {
   "cell_type": "code",
   "execution_count": 46,
   "id": "910ab38c-2feb-4f9c-8516-98982e0a1218",
   "metadata": {},
   "source": [
    "data"
   ],
   "outputs": []
  },
  {
   "cell_type": "code",
   "execution_count": 47,
   "id": "4ef7f5ed-d34c-452b-aec4-f06f02d3b1d5",
   "metadata": {},
   "source": [
    "compute_grid_coord(table_lat=lat, table_lon=lon, lat=69.9, lon=44.6)"
   ],
   "outputs": []
  },
  {
   "cell_type": "code",
   "execution_count": null,
   "id": "6021c8d8-e6df-4bf5-8f9d-a425a34b82a3",
   "metadata": {},
   "source": [],
   "outputs": []
  }
 ],
 "metadata": {
  "kernelspec": {
   "display_name": "Python 3 (ipykernel)",
   "language": "python",
   "name": "python3"
  },
  "language_info": {
   "codemirror_mode": {
    "name": "ipython",
    "version": 3
   },
   "file_extension": ".py",
   "mimetype": "text/x-python",
   "name": "python",
   "nbconvert_exporter": "python",
   "pygments_lexer": "ipython3",
   "version": "3.11.4"
  }
 },
 "nbformat": 4,
 "nbformat_minor": 5
}

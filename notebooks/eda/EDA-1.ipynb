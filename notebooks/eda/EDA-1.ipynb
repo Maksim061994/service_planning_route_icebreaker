{
 "cells": [
  {
   "cell_type": "code",
   "execution_count": 1,
   "id": "c7a0eadd-88da-4e90-b871-372c4d650388",
   "metadata": {},
   "source": [
    "import pandas as pd\n",
    "import random\n",
    "import matplotlib.pyplot as plt\n",
    "import matplotlib.patches as mpatches"
   ],
   "outputs": []
  },
  {
   "cell_type": "code",
   "execution_count": 21,
   "id": "7a2d0a27-1351-4c39-80b1-92e06f0f8e1e",
   "metadata": {},
   "source": [
    "# Путь к файлу с данными по широте,долготе и тяжести льда.\n",
    "path_excel = 'IntegrVelocity.xlsx'"
   ],
   "outputs": []
  },
  {
   "cell_type": "markdown",
   "id": "f26c10c3-e597-4aec-93e2-160f35577a2d",
   "metadata": {},
   "source": [
    "## Загрузка данных с широтой и долготой пространственной сетки в полярной стереографической проекции"
   ]
  },
  {
   "cell_type": "code",
   "execution_count": 22,
   "id": "3bd64a08-9ca0-4ce7-b8ef-db6a57e86caf",
   "metadata": {},
   "source": [
    "# Загрузка данных широты и долготы сетки. Каждая пара - левый вверхний угол участка 25х25 км.\n",
    "Velocity_lon = pd.read_excel(path_excel, sheet_name='lon', header=None)\n",
    "Velocity_lat = pd.read_excel(path_excel, sheet_name='lat', header=None)"
   ],
   "outputs": []
  },
  {
   "cell_type": "code",
   "execution_count": 30,
   "id": "b4f52794-3685-4216-b179-90c47533541f",
   "metadata": {},
   "source": [
    "fig, ax = plt.subplots(figsize=(36,24))\n",
    "ax.plot(Velocity_lon.values.tolist(), Velocity_lat.values.tolist(), markersize=18,  color='blue', marker ='s', linestyle='None',zorder=1)\n",
    "plt.title('Пространственная сетка в полярной стереографической проекции', fontsize=30)\n",
    "plt.xlabel('Широта', fontsize=30)\n",
    "plt.xticks(fontsize = 20)\n",
    "plt.ylabel('Долгота', fontsize=30)\n",
    "plt.yticks(fontsize = 20)\n",
    "plt.show()"
   ],
   "outputs": []
  },
  {
   "cell_type": "markdown",
   "id": "cef97f1f-ccee-45e9-8294-4454124e165c",
   "metadata": {},
   "source": [
    "## Загрузка данных по тяжести льда для пространственной сетки"
   ]
  },
  {
   "cell_type": "code",
   "execution_count": 31,
   "id": "c6efd1d9-6976-4cb4-ae31-681df0dcc192",
   "metadata": {},
   "source": [
    "def plot_ice_map(path_excel, sheet_name, Velocity_lat, Velocity_lon):\n",
    "    '''\n",
    "        path_excel - путь к эксель файлу\n",
    "        sheet_name - название листа чтения\n",
    "        Velocity_lat - таблица pandas с широтой \n",
    "        Velocity_lon - таблица pandas с долготой\n",
    "\n",
    "        На выходе изображение пространственной сетки с указанием тяжести льда на ней. Каждый цвет соответствует диапазону значений тяжести льда.\n",
    "        Указаны в легенде на графике.\n",
    "    '''\n",
    "    Velocity_day = pd.read_excel(path_excel, sheet_name=sheet_name, header=None)\n",
    "    color_df = Velocity_day.copy()\n",
    "    \n",
    "    color_df[Velocity_day < 0] = 'gray'\n",
    "    color_df[(Velocity_day >= 0)&(Velocity_day <= 10)] = 'red'\n",
    "    color_df[(Velocity_day > 10)&(Velocity_day <= 15)] = 'orange'\n",
    "    color_df[(Velocity_day > 15)&(Velocity_day <= 19)] = 'yellow'\n",
    "    color_df[Velocity_day > 19] = 'green'\n",
    "    \n",
    "    fig, ax = plt.subplots(figsize=(24,12))\n",
    "    for i in range(Velocity_lat.shape[0]):\n",
    "        for j in range(Velocity_lat.shape[1]):\n",
    "            data_lat = Velocity_lat.iloc[i,j]\n",
    "            data_lon = Velocity_lon.iloc[i,j]\n",
    "            color_ = color_df.iloc[i,j]\n",
    "            ax.plot(data_lon, data_lat, markersize=18,  color=color_, marker ='s', linestyle='None')\n",
    "            \n",
    "    plt.title(f'Пространственная сетка {sheet_name}', fontsize=30)\n",
    "    gray_patch = mpatches.Patch(color='gray', label='Тяжесть льда < 0')\n",
    "    red_patch = mpatches.Patch(color='red', label='0 <= Тяжесть льда < 10')\n",
    "    orange_patch = mpatches.Patch(color='orange', label='10 < Тяжесть льда <= 15')\n",
    "    yellow_patch = mpatches.Patch(color='yellow', label='15 < Тяжесть льда <= 19')\n",
    "    green_patch = mpatches.Patch(color='green', label='Тяжесть льда > 19')\n",
    "    plt.legend(handles=[gray_patch,red_patch, orange_patch,yellow_patch,green_patch],loc='lower left')\n",
    "    plt.xlabel('Широта', fontsize=30)\n",
    "    plt.xticks(fontsize = 20)\n",
    "    plt.ylabel('Долгота', fontsize=30)\n",
    "    plt.yticks(fontsize = 20)\n",
    "    plt.show()"
   ],
   "outputs": []
  },
  {
   "cell_type": "code",
   "execution_count": 32,
   "id": "15f8ef19-2e7a-440b-8a08-de5e272a4d15",
   "metadata": {},
   "source": [
    "xls = pd.ExcelFile(path_excel)\n",
    "print('Даты расчетов тяжести льда:',xls.sheet_names[2:])"
   ],
   "outputs": []
  },
  {
   "cell_type": "code",
   "execution_count": 33,
   "id": "1e183ed0-2de3-4bef-8482-c6c18e7cd0e9",
   "metadata": {},
   "source": [
    "plot_ice_map(path_excel, xls.sheet_names[2], Velocity_lat, Velocity_lon)"
   ],
   "outputs": []
  },
  {
   "cell_type": "code",
   "execution_count": 34,
   "id": "ccf4f86c-c393-43cc-8ec5-f8bcf4bcff1a",
   "metadata": {},
   "source": [
    "plot_ice_map(path_excel, xls.sheet_names[7], Velocity_lat, Velocity_lon)"
   ],
   "outputs": []
  },
  {
   "cell_type": "code",
   "execution_count": 52,
   "id": "c186d994-c55b-495a-aaa6-0064a2439bce",
   "metadata": {},
   "source": [
    "plot_ice_map(path_excel, xls.sheet_names[-1], Velocity_lat, Velocity_lon)"
   ],
   "outputs": []
  },
  {
   "cell_type": "markdown",
   "id": "9c6e4f79-8e88-46f6-a9f3-2ea15ef24a11",
   "metadata": {},
   "source": [
    "Была построенна пространственная сетка в полярной стереографической проекции. Визуализировали значения тяжести льда на пространственной сетке. Каждому диапазону был присвоен свой цвет, который указан в легенде на графике."
   ]
  },
  {
   "cell_type": "markdown",
   "id": "1149e6fe-cfe6-403c-838f-eaa27e2698b3",
   "metadata": {},
   "source": [
    "## Загрузка данных графов"
   ]
  },
  {
   "cell_type": "code",
   "execution_count": 39,
   "id": "fc2ac75f-d07f-44e9-b4e2-ea99de97348b",
   "metadata": {},
   "source": [
    "graph_points = pd.read_excel('ГрафДанные.xlsx', sheet_name='points')\n",
    "graph_edges = pd.read_excel('ГрафДанные.xlsx', sheet_name='edges')"
   ],
   "outputs": []
  },
  {
   "cell_type": "code",
   "execution_count": 37,
   "id": "0ca84d78-00e4-4737-aafc-4fd4d1103933",
   "metadata": {},
   "source": [
    "graph_points[['latitude','longitude']].min(), graph_points[['latitude','longitude']].max()"
   ],
   "outputs": []
  },
  {
   "cell_type": "markdown",
   "id": "c61fea3b-d057-4081-b55d-d22e83add1fb",
   "metadata": {},
   "source": [
    "В данных по узлам графа присутствуют отрицательные значения, чтобы преобразовать в положительное значения необходимо сложить с 360."
   ]
  },
  {
   "cell_type": "code",
   "execution_count": 43,
   "id": "7509c883-e325-4c2b-987a-49481ae3ab31",
   "metadata": {
    "scrolled": true
   },
   "source": [
    "# Отрицательное значение для бериногов пролив, переводим в положительное для отображения\n",
    "graph_points.loc[graph_points[graph_points.longitude < 0].longitude.index, 'longitude'] = 360 + graph_points[graph_points.longitude < 0].longitude.values\n",
    "# Номера гарфов узла для специального отображения на графике.\n",
    "point_invert = [41,29,3,31,11,35,14,43,36]"
   ],
   "outputs": []
  },
  {
   "cell_type": "code",
   "execution_count": 45,
   "id": "6c0e1b61-d8ae-4e54-a6f3-e45da58e617d",
   "metadata": {},
   "source": [
    "# Координаты и названия для узлов графа\n",
    "x = graph_points.longitude.values.tolist()\n",
    "y = graph_points.latitude.values.tolist()\n",
    "txt = graph_points.point_id.values.tolist()\n",
    "name = graph_points.point_name.values.tolist()\n",
    "\n",
    "fig, ax = plt.subplots(figsize=(36,24))\n",
    "ax.plot(Velocity_lon.values.tolist(), Velocity_lat.values.tolist(), markersize=18,  color='blue', marker ='s', linestyle='None',zorder=1)\n",
    "ax.scatter(x, y, c='g',zorder=2, linewidths=10)\n",
    "\n",
    "for i, txt_ in enumerate(txt):\n",
    "    if txt_ in point_invert:\n",
    "        ax.annotate(txt_, (x[i], y[i]), xytext=(x[i]*1.01, y[i]*0.99), size=20, c='w')\n",
    "        continue\n",
    "    if (txt_ == 26) or (txt_ == 39):\n",
    "        ax.annotate(txt_, (x[i], y[i]), xytext=(x[i]*0.985, y[i]), size=20, c='w')\n",
    "        continue\n",
    "    ax.annotate(txt_, (x[i], y[i]), xytext=(x[i]*0.99, y[i]*1.01), size=20, c='w')\n",
    "# Построение ребер графа\n",
    "for j in range(len(graph_edges)):\n",
    "    start_point = graph_edges.iloc[j,:].start_point_id\n",
    "    end_point = graph_edges.iloc[j,:].end_point_id\n",
    "    start_data = graph_points[graph_points.point_id == start_point][['latitude','longitude']]\n",
    "    x1 = start_data.longitude.values.tolist()\n",
    "    y1 = start_data.latitude.values.tolist()\n",
    "    end_data = graph_points[graph_points.point_id == end_point][['latitude','longitude']]\n",
    "    x2 = end_data.longitude.values.tolist()\n",
    "    y2 = end_data.latitude.values.tolist()\n",
    "    ax.plot([x1, x2], [y1, y2], zorder=2, color='red', linewidth=6, alpha=0.5)\n",
    "\n",
    "plt.text(210, 40, f'{graph_points.point_name.to_string()}', fontsize = 20)\n",
    "plt.title('Пространственная сетка в полярной стереографической проекции c графом переходов', fontsize=30)\n",
    "plt.xlabel('Широта', fontsize=30)\n",
    "plt.xticks(fontsize = 20)\n",
    "plt.ylabel('Долгота', fontsize=30)\n",
    "plt.yticks(fontsize = 20)\n",
    "plt.show()\n",
    "plt.show()"
   ],
   "outputs": []
  },
  {
   "cell_type": "markdown",
   "id": "2edc1bff-d4e9-432f-8370-694a92b3b1ab",
   "metadata": {},
   "source": [
    "Изображение каждого ребра графа, случайным цветом"
   ]
  },
  {
   "cell_type": "code",
   "execution_count": 46,
   "id": "cb447397-cce9-49c9-8708-162cf66e74ec",
   "metadata": {},
   "source": [
    "# Координаты и названия для узлов графа\n",
    "x = graph_points.longitude.values.tolist()\n",
    "y = graph_points.latitude.values.tolist()\n",
    "txt = graph_points.point_id.values.tolist()\n",
    "name = graph_points.point_name.values.tolist()\n",
    "\n",
    "fig, ax = plt.subplots(figsize=(36,24))\n",
    "ax.plot(Velocity_lon.values.tolist(), Velocity_lat.values.tolist(), markersize=18,  color='blue', marker ='s', linestyle='None',zorder=1)\n",
    "ax.scatter(x, y, c='g',zorder=2, linewidths=10)\n",
    "\n",
    "for i, txt_ in enumerate(txt):\n",
    "    if txt_ in point_invert:\n",
    "        ax.annotate(txt_, (x[i], y[i]), xytext=(x[i]*1.01, y[i]*0.99), size=20, c='w')\n",
    "        continue\n",
    "    if (txt_ == 26) or (txt_ == 39):\n",
    "        ax.annotate(txt_, (x[i], y[i]), xytext=(x[i]*0.985, y[i]), size=20, c='w')\n",
    "        continue\n",
    "    ax.annotate(txt_, (x[i], y[i]), xytext=(x[i]*0.99, y[i]*1.01), size=20, c='w')\n",
    "# Построение ребер графа\n",
    "for j in range(len(graph_edges)):\n",
    "    start_point = graph_edges.iloc[j,:].start_point_id\n",
    "    end_point = graph_edges.iloc[j,:].end_point_id\n",
    "    start_data = graph_points[graph_points.point_id == start_point][['latitude','longitude']]\n",
    "    x1 = start_data.longitude.values.tolist()\n",
    "    y1 = start_data.latitude.values.tolist()\n",
    "    end_data = graph_points[graph_points.point_id == end_point][['latitude','longitude']]\n",
    "    x2 = end_data.longitude.values.tolist()\n",
    "    y2 = end_data.latitude.values.tolist()\n",
    "    color=(random.uniform(0, 1), random.uniform(0, 1), 0)\n",
    "    ax.plot([x1, x2], [y1, y2], zorder=2, color=color, linewidth=6)\n",
    "\n",
    "plt.text(210, 40, f'{graph_points.point_name.to_string()}', fontsize = 20)\n",
    "plt.title('Пространственная сетка в полярной стереографической проекции c графом переходов', fontsize=30)\n",
    "plt.xlabel('Широта', fontsize=30)\n",
    "plt.xticks(fontsize = 20)\n",
    "plt.ylabel('Долгота', fontsize=30)\n",
    "plt.yticks(fontsize = 20)\n",
    "plt.show()"
   ],
   "outputs": []
  },
  {
   "cell_type": "markdown",
   "id": "9f4c995b-c4eb-4a9c-bb8e-186ae5c70336",
   "metadata": {},
   "source": [
    "Построенны данные графов, а именно узлы и ребра. По графикам видно, что узлы №26(мыс.Наглейнын) и №39(Рейд Певек) не имеют между собой общего ребра, но имеют ребро с узлом №18(Восточно-Сибирское - 1(восток)). "
   ]
  },
  {
   "cell_type": "markdown",
   "id": "392bff92-2166-46bb-94be-61d0fee5ae94",
   "metadata": {},
   "source": [
    "## Загрузка данных расписания и местоположения ледоколов"
   ]
  },
  {
   "cell_type": "code",
   "execution_count": 11,
   "id": "fc033797-6910-4f69-9f1e-0742ec353a7d",
   "metadata": {},
   "source": [
    "shedudle = pd.read_excel('Расписание движения судов.xlsx')\n",
    "\n",
    "shedudle_ships = shedudle.iloc[:42,:].sort_values(by=['Дата начала плавания']).reset_index(drop=True)\n",
    "shedudle_icebreaker = shedudle.iloc[44:,2:].reset_index(drop=True)\n",
    "shedudle_icebreaker.columns = shedudle_icebreaker.iloc[0,:]\n",
    "shedudle_icebreaker = shedudle_icebreaker.iloc[1:,:].dropna()"
   ],
   "outputs": []
  },
  {
   "cell_type": "markdown",
   "id": "b8ddcf11-ea56-496e-8305-e1c412a823eb",
   "metadata": {},
   "source": [
    "Добавление широты и долготы для точек маршрута"
   ]
  },
  {
   "cell_type": "code",
   "execution_count": 12,
   "id": "39250242-79c6-43ac-91b0-7f7cd4d2d48f",
   "metadata": {
    "scrolled": true
   },
   "source": [
    "data = []\n",
    "for point in shedudle_icebreaker['Начальное положение ледоколов на 27 февраля 2022']:\n",
    "    data_append = graph_points[graph_points.point_name.str.lower() == point.lower()][['latitude','longitude']].values[0]\n",
    "    data.append(data_append)\n",
    "shedudle_icebreaker[['latitude','longitude']] = data\n",
    "\n",
    "data = []\n",
    "for point in shedudle_ships['Пункт начала плавания']:\n",
    "    data_append = graph_points[graph_points.point_name.str.lower() == point.lower()][['latitude','longitude']].values[0]\n",
    "    data.append(data_append)\n",
    "shedudle_ships[['latitude_start','longitude_start']] = data\n",
    "\n",
    "data = []\n",
    "for point in shedudle_ships['Пункт окончания плавания']:\n",
    "    data_append = graph_points[graph_points.point_name.str.lower() == point.lower()][['latitude','longitude']].values[0]\n",
    "    data.append(data_append)\n",
    "shedudle_ships[['latitude_end','longitude_end']] = data"
   ],
   "outputs": []
  },
  {
   "cell_type": "code",
   "execution_count": 50,
   "id": "c56e7831-5352-48a3-8518-6e3e1591b0e3",
   "metadata": {},
   "source": [
    "Velocity_day = pd.read_excel(path_excel, sheet_name=xls.sheet_names[2], header=None)\n",
    "color_df = Velocity_day.copy()\n",
    "\n",
    "color_df[Velocity_day < 0] = 'gray'\n",
    "color_df[(Velocity_day >= 0)&(Velocity_day <= 10)] = 'red'\n",
    "color_df[(Velocity_day > 10)&(Velocity_day <= 15)] = 'orange'\n",
    "color_df[(Velocity_day > 15)&(Velocity_day <= 19)] = 'yellow'\n",
    "color_df[Velocity_day > 19] = 'green'\n",
    "\n",
    "fig, ax = plt.subplots(figsize=(36,24))\n",
    "for i in range(Velocity_lat.shape[0]):\n",
    "    for j in range(Velocity_lat.shape[1]):\n",
    "        data_lat = Velocity_lat.iloc[i,j]\n",
    "        data_lon = Velocity_lon.iloc[i,j]\n",
    "        color_ = color_df.iloc[i,j]\n",
    "        ax.plot(data_lon, data_lat, markersize=18,  color=color_, marker ='s', linestyle='None',zorder=1)\n",
    "        \n",
    "gray_patch = mpatches.Patch(color='gray', label='Тяжесть льда < 0')\n",
    "red_patch = mpatches.Patch(color='red', label='0 <= Тяжесть льда < 10')\n",
    "orange_patch = mpatches.Patch(color='orange', label='10 <= Тяжесть льда < 15')\n",
    "yellow_patch = mpatches.Patch(color='yellow', label='15 <= Тяжесть льда < 19')\n",
    "green_patch = mpatches.Patch(color='green', label='Тяжесть льда >= 19')\n",
    "plt.legend(handles=[gray_patch,red_patch, orange_patch,yellow_patch,green_patch],loc='lower left', prop={'size': 20})\n",
    "\n",
    "x = shedudle_icebreaker.longitude.values.tolist()\n",
    "y = shedudle_icebreaker.latitude.values.tolist()\n",
    "name = shedudle_icebreaker['Наименование'].values.tolist()\n",
    "\n",
    "x_start = shedudle_ships.iloc[0,:]['longitude_start']\n",
    "y_start = shedudle_ships.iloc[0,:]['latitude_start']\n",
    "x_end = shedudle_ships.iloc[0,:]['longitude_end']\n",
    "y_end = shedudle_ships.iloc[0,:]['latitude_end']\n",
    "\n",
    "\n",
    "ax.scatter(x_start, y_start, c='b',zorder=2, linewidths=15)\n",
    "ax.annotate('Старт', (x_start, y_start), xytext=(x_start*1.01, y_start*0.98), size=20, c='b')\n",
    "ax.scatter(x_end, y_end, c='darkblue',zorder=2, linewidths=15)\n",
    "ax.annotate('Конец', (x_end, y_end), xytext=(x_end*1.01, y_end*0.98), size=20, c='darkblue')\n",
    "\n",
    "ax.scatter(x, y, c='purple',zorder=3, linewidths=10)\n",
    "for i, txt_ in enumerate(name):\n",
    "    ax.annotate(txt_, (x[i], y[i]), xytext=(x[i]*0.99, y[i]*1.01), size=25, c='purple')\n",
    "\n",
    "plt.title('Расположение ледоколов и узлы маршрута судна ДЮК II на пространственной сетке со значениями тяжести льда', fontsize=30)\n",
    "plt.xlabel('Широта', fontsize=30)\n",
    "plt.xticks(fontsize = 20)\n",
    "plt.ylabel('Долгота', fontsize=30)\n",
    "plt.yticks(fontsize = 20)\n",
    "plt.show()"
   ],
   "outputs": []
  },
  {
   "cell_type": "code",
   "execution_count": 51,
   "id": "d63b0f38-f7d8-4ba4-8ff1-87d0800b29a7",
   "metadata": {},
   "source": [
    "Velocity_day = pd.read_excel(path_excel, sheet_name=xls.sheet_names[2], header=None)\n",
    "color_df = Velocity_day.copy()\n",
    "\n",
    "color_df[Velocity_day < 0] = 'gray'\n",
    "color_df[(Velocity_day >= 0)&(Velocity_day <= 10)] = 'red'\n",
    "color_df[(Velocity_day > 10)&(Velocity_day <= 15)] = 'orange'\n",
    "color_df[(Velocity_day > 15)&(Velocity_day <= 19)] = 'yellow'\n",
    "color_df[Velocity_day > 19] = 'green'\n",
    "\n",
    "fig, ax = plt.subplots(figsize=(36,24))\n",
    "for i in range(Velocity_lat.shape[0]):\n",
    "    for j in range(Velocity_lat.shape[1]):\n",
    "        data_lat = Velocity_lat.iloc[i,j]\n",
    "        data_lon = Velocity_lon.iloc[i,j]\n",
    "        color_ = color_df.iloc[i,j]\n",
    "        ax.plot(data_lon, data_lat, markersize=18,  color=color_, marker ='s', linestyle='None',zorder=1)\n",
    "        \n",
    "gray_patch = mpatches.Patch(color='gray', label='Тяжесть льда < 0')\n",
    "red_patch = mpatches.Patch(color='red', label='0 <= Тяжесть льда < 10')\n",
    "orange_patch = mpatches.Patch(color='orange', label='10 <= Тяжесть льда < 15')\n",
    "yellow_patch = mpatches.Patch(color='yellow', label='15 <= Тяжесть льда < 19')\n",
    "green_patch = mpatches.Patch(color='green', label='Тяжесть льда >= 19')\n",
    "plt.legend(handles=[gray_patch,red_patch, orange_patch,yellow_patch,green_patch],loc='lower left', prop={'size': 20})\n",
    "\n",
    "x = shedudle_icebreaker.longitude.values.tolist()\n",
    "y = shedudle_icebreaker.latitude.values.tolist()\n",
    "name = shedudle_icebreaker['Наименование'].values.tolist()\n",
    "\n",
    "x_start = shedudle_ships.iloc[0,:]['longitude_start']\n",
    "y_start = shedudle_ships.iloc[0,:]['latitude_start']\n",
    "x_end = shedudle_ships.iloc[0,:]['longitude_end']\n",
    "y_end = shedudle_ships.iloc[0,:]['latitude_end']\n",
    "\n",
    "\n",
    "ax.scatter(x_start, y_start, c='b',zorder=2, linewidths=15)\n",
    "ax.annotate('Старт', (x_start, y_start), xytext=(x_start*1.01, y_start*0.98), size=20, c='b')\n",
    "ax.scatter(x_end, y_end, c='darkblue',zorder=2, linewidths=15)\n",
    "ax.annotate('Конец', (x_end, y_end), xytext=(x_end*1.01, y_end*0.98), size=20, c='darkblue')\n",
    "\n",
    "ax.scatter(x, y, c='purple',zorder=3, linewidths=10)\n",
    "for i, txt_ in enumerate(name):\n",
    "    ax.annotate(txt_, (x[i], y[i]), xytext=(x[i]*0.99, y[i]*1.01), size=25, c='purple')\n",
    "\n",
    "# Построение ребер графа\n",
    "for j in range(len(graph_edges)):\n",
    "    start_point = graph_edges.iloc[j,:].start_point_id\n",
    "    end_point = graph_edges.iloc[j,:].end_point_id\n",
    "    start_data = graph_points[graph_points.point_id == start_point][['latitude','longitude']]\n",
    "    x1 = start_data.longitude.values.tolist()\n",
    "    y1 = start_data.latitude.values.tolist()\n",
    "    end_data = graph_points[graph_points.point_id == end_point][['latitude','longitude']]\n",
    "    x2 = end_data.longitude.values.tolist()\n",
    "    y2 = end_data.latitude.values.tolist()\n",
    "    ax.plot([x1, x2], [y1, y2], zorder=2, color='k', linewidth=3, alpha=0.4)\n",
    "\n",
    "\n",
    "plt.title('Расположение ледоколов узлы маршрута судна ДЮК II и ребра графов на пространственной сетке со значениями тяжести льда', fontsize=30)\n",
    "plt.xlabel('Широта', fontsize=30)\n",
    "plt.xticks(fontsize = 20)\n",
    "plt.ylabel('Долгота', fontsize=30)\n",
    "plt.yticks(fontsize = 20)\n",
    "plt.show()"
   ],
   "outputs": []
  },
  {
   "cell_type": "markdown",
   "id": "72de749f-21f7-4e43-a75d-ed32fcf2152c",
   "metadata": {},
   "source": [
    "## Заключение"
   ]
  },
  {
   "cell_type": "markdown",
   "id": "301b3b30-b4d8-4dd7-974b-eacbb04658b3",
   "metadata": {},
   "source": [
    "1. Построена пространственная сетка в стереографической проекции. <br>\n",
    "2. Построены примеры пространственных сеток с отображением значений тяжести льда в разные периоды времени. <br>\n",
    "3. Построены узлы и ребра графа вероятных маршрутов взятых из исторических данных. <br>\n",
    "4. Построены положения ледоколов, начальная и конечная точка маршрута для первого корабля из заявок ДЮК II.<br>\n",
    "При анализе данных обнаружилась отрицательное значение положения для узла Берингов пролив. При анализе пространственной карты с отображением тяжести льда было замечено, что узлы №1(Дудинка),5(Окно в Европу),29(Архангельск),35(Терминал Утренний),38(Кромка льда на Востоке),46(Окно в Азию) находятся в зонах, где тяжесть льда отрицательная."
   ]
  }
 ],
 "metadata": {
  "kernelspec": {
   "display_name": "Python 3 (ipykernel)",
   "language": "python",
   "name": "python3"
  },
  "language_info": {
   "codemirror_mode": {
    "name": "ipython",
    "version": 3
   },
   "file_extension": ".py",
   "mimetype": "text/x-python",
   "name": "python",
   "nbconvert_exporter": "python",
   "pygments_lexer": "ipython3",
   "version": "3.11.4"
  }
 },
 "nbformat": 4,
 "nbformat_minor": 5
}
